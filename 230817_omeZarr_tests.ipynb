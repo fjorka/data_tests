{
 "cells": [
  {
   "cell_type": "code",
   "execution_count": 1,
   "metadata": {},
   "outputs": [],
   "source": [
    "import os\n",
    "from tifffile import imread\n",
    "import zarr\n",
    "from ome_zarr.io import parse_url\n",
    "from ome_zarr.writer import write_image\n",
    "from ome_zarr.reader import Reader\n",
    "import napari\n",
    "from dask import delayed\n",
    "import dask.array as da"
   ]
  },
  {
   "cell_type": "code",
   "execution_count": 2,
   "metadata": {},
   "outputs": [],
   "source": [
    "im_path = r'D:\\data_analysis\\2023_Stallaert\\TP19M626-22_Final\\TP19M626-22_1.0.4_R000_Cy7_CDC6-AF750_FINAL_AFR_F.tif'\n",
    "zarr_path = r'D:\\data_analysis\\2023_Stallaert\\TP19M626-22_Final\\test.zarr'"
   ]
  },
  {
   "cell_type": "markdown",
   "metadata": {},
   "source": [
    "## Save zarr "
   ]
  },
  {
   "cell_type": "code",
   "execution_count": 35,
   "metadata": {},
   "outputs": [
    {
     "data": {
      "text/plain": [
       "(40696, 57410)"
      ]
     },
     "execution_count": 35,
     "metadata": {},
     "output_type": "execute_result"
    }
   ],
   "source": [
    "im = imread(im_path)\n",
    "im.shape"
   ]
  },
  {
   "cell_type": "code",
   "execution_count": 39,
   "metadata": {},
   "outputs": [],
   "source": [
    "size_xy = 128\n",
    "\n",
    "# write the image data\n",
    "store = parse_url(zarr_path, mode=\"w\").store\n",
    "root = zarr.group(store=store)\n",
    "\n",
    "# it will fail if the store already contains arrays\n",
    "write_image(image=im, group=root, axes=\"yx\", storage_options=dict(chunks=(size_xy, size_xy)))"
   ]
  },
  {
   "cell_type": "markdown",
   "metadata": {},
   "source": [
    "## Zarr to dask"
   ]
  },
  {
   "cell_type": "code",
   "execution_count": null,
   "metadata": {},
   "outputs": [],
   "source": [
    "reader = Reader(parse_url(zarr_path))\n",
    "image_node = list(reader())[0]\n",
    "\n",
    "dask_data = image_node.data"
   ]
  },
  {
   "cell_type": "code",
   "execution_count": 38,
   "metadata": {},
   "outputs": [
    {
     "data": {
      "text/html": [
       "<table>\n",
       "    <tr>\n",
       "        <td>\n",
       "            <table style=\"border-collapse: collapse;\">\n",
       "                <thead>\n",
       "                    <tr>\n",
       "                        <td> </td>\n",
       "                        <th> Array </th>\n",
       "                        <th> Chunk </th>\n",
       "                    </tr>\n",
       "                </thead>\n",
       "                <tbody>\n",
       "                    \n",
       "                    <tr>\n",
       "                        <th> Bytes </th>\n",
       "                        <td> 4.35 GiB </td>\n",
       "                        <td> 32.00 kiB </td>\n",
       "                    </tr>\n",
       "                    \n",
       "                    <tr>\n",
       "                        <th> Shape </th>\n",
       "                        <td> (40696, 57410) </td>\n",
       "                        <td> (128, 128) </td>\n",
       "                    </tr>\n",
       "                    <tr>\n",
       "                        <th> Dask graph </th>\n",
       "                        <td colspan=\"2\"> 142782 chunks in 2 graph layers </td>\n",
       "                    </tr>\n",
       "                    <tr>\n",
       "                        <th> Data type </th>\n",
       "                        <td colspan=\"2\"> uint16 numpy.ndarray </td>\n",
       "                    </tr>\n",
       "                </tbody>\n",
       "            </table>\n",
       "        </td>\n",
       "        <td>\n",
       "        <svg width=\"170\" height=\"135\" style=\"stroke:rgb(0,0,0);stroke-width:1\" >\n",
       "\n",
       "  <!-- Horizontal lines -->\n",
       "  <line x1=\"0\" y1=\"0\" x2=\"120\" y2=\"0\" style=\"stroke-width:2\" />\n",
       "  <line x1=\"0\" y1=\"4\" x2=\"120\" y2=\"4\" />\n",
       "  <line x1=\"0\" y1=\"8\" x2=\"120\" y2=\"8\" />\n",
       "  <line x1=\"0\" y1=\"13\" x2=\"120\" y2=\"13\" />\n",
       "  <line x1=\"0\" y1=\"17\" x2=\"120\" y2=\"17\" />\n",
       "  <line x1=\"0\" y1=\"22\" x2=\"120\" y2=\"22\" />\n",
       "  <line x1=\"0\" y1=\"26\" x2=\"120\" y2=\"26\" />\n",
       "  <line x1=\"0\" y1=\"31\" x2=\"120\" y2=\"31\" />\n",
       "  <line x1=\"0\" y1=\"35\" x2=\"120\" y2=\"35\" />\n",
       "  <line x1=\"0\" y1=\"40\" x2=\"120\" y2=\"40\" />\n",
       "  <line x1=\"0\" y1=\"44\" x2=\"120\" y2=\"44\" />\n",
       "  <line x1=\"0\" y1=\"49\" x2=\"120\" y2=\"49\" />\n",
       "  <line x1=\"0\" y1=\"53\" x2=\"120\" y2=\"53\" />\n",
       "  <line x1=\"0\" y1=\"58\" x2=\"120\" y2=\"58\" />\n",
       "  <line x1=\"0\" y1=\"62\" x2=\"120\" y2=\"62\" />\n",
       "  <line x1=\"0\" y1=\"67\" x2=\"120\" y2=\"67\" />\n",
       "  <line x1=\"0\" y1=\"71\" x2=\"120\" y2=\"71\" />\n",
       "  <line x1=\"0\" y1=\"75\" x2=\"120\" y2=\"75\" />\n",
       "  <line x1=\"0\" y1=\"80\" x2=\"120\" y2=\"80\" />\n",
       "  <line x1=\"0\" y1=\"85\" x2=\"120\" y2=\"85\" style=\"stroke-width:2\" />\n",
       "\n",
       "  <!-- Vertical lines -->\n",
       "  <line x1=\"0\" y1=\"0\" x2=\"0\" y2=\"85\" style=\"stroke-width:2\" />\n",
       "  <line x1=\"6\" y1=\"0\" x2=\"6\" y2=\"85\" />\n",
       "  <line x1=\"12\" y1=\"0\" x2=\"12\" y2=\"85\" />\n",
       "  <line x1=\"18\" y1=\"0\" x2=\"18\" y2=\"85\" />\n",
       "  <line x1=\"25\" y1=\"0\" x2=\"25\" y2=\"85\" />\n",
       "  <line x1=\"31\" y1=\"0\" x2=\"31\" y2=\"85\" />\n",
       "  <line x1=\"37\" y1=\"0\" x2=\"37\" y2=\"85\" />\n",
       "  <line x1=\"44\" y1=\"0\" x2=\"44\" y2=\"85\" />\n",
       "  <line x1=\"50\" y1=\"0\" x2=\"50\" y2=\"85\" />\n",
       "  <line x1=\"56\" y1=\"0\" x2=\"56\" y2=\"85\" />\n",
       "  <line x1=\"63\" y1=\"0\" x2=\"63\" y2=\"85\" />\n",
       "  <line x1=\"69\" y1=\"0\" x2=\"69\" y2=\"85\" />\n",
       "  <line x1=\"75\" y1=\"0\" x2=\"75\" y2=\"85\" />\n",
       "  <line x1=\"82\" y1=\"0\" x2=\"82\" y2=\"85\" />\n",
       "  <line x1=\"88\" y1=\"0\" x2=\"88\" y2=\"85\" />\n",
       "  <line x1=\"94\" y1=\"0\" x2=\"94\" y2=\"85\" />\n",
       "  <line x1=\"101\" y1=\"0\" x2=\"101\" y2=\"85\" />\n",
       "  <line x1=\"107\" y1=\"0\" x2=\"107\" y2=\"85\" />\n",
       "  <line x1=\"113\" y1=\"0\" x2=\"113\" y2=\"85\" />\n",
       "  <line x1=\"120\" y1=\"0\" x2=\"120\" y2=\"85\" style=\"stroke-width:2\" />\n",
       "\n",
       "  <!-- Colored Rectangle -->\n",
       "  <polygon points=\"0.0,0.0 120.0,0.0 120.0,85.06392614527086 0.0,85.06392614527086\" style=\"fill:#8B4903A0;stroke-width:0\"/>\n",
       "\n",
       "  <!-- Text -->\n",
       "  <text x=\"60.000000\" y=\"105.063926\" font-size=\"1.0rem\" font-weight=\"100\" text-anchor=\"middle\" >57410</text>\n",
       "  <text x=\"140.000000\" y=\"42.531963\" font-size=\"1.0rem\" font-weight=\"100\" text-anchor=\"middle\" transform=\"rotate(-90,140.000000,42.531963)\">40696</text>\n",
       "</svg>\n",
       "        </td>\n",
       "    </tr>\n",
       "</table>"
      ],
      "text/plain": [
       "dask.array<from-zarr, shape=(40696, 57410), dtype=uint16, chunksize=(128, 128), chunktype=numpy.ndarray>"
      ]
     },
     "execution_count": 38,
     "metadata": {},
     "output_type": "execute_result"
    }
   ],
   "source": [
    "# visualize dask data\n",
    "dask_data[0]"
   ]
  },
  {
   "cell_type": "code",
   "execution_count": 37,
   "metadata": {},
   "outputs": [
    {
     "data": {
      "text/plain": [
       "<Image layer 'dask_data' at 0x1640651c880>"
      ]
     },
     "execution_count": 37,
     "metadata": {},
     "output_type": "execute_result"
    }
   ],
   "source": [
    "viewer = napari.Viewer()\n",
    "viewer.add_image(dask_data)"
   ]
  },
  {
   "cell_type": "markdown",
   "metadata": {},
   "source": [
    "## Stack of tiffs to dask"
   ]
  },
  {
   "cell_type": "code",
   "execution_count": 3,
   "metadata": {},
   "outputs": [
    {
     "data": {
      "text/html": [
       "<table>\n",
       "    <tr>\n",
       "        <td>\n",
       "            <table style=\"border-collapse: collapse;\">\n",
       "                <thead>\n",
       "                    <tr>\n",
       "                        <td> </td>\n",
       "                        <th> Array </th>\n",
       "                        <th> Chunk </th>\n",
       "                    </tr>\n",
       "                </thead>\n",
       "                <tbody>\n",
       "                    \n",
       "                    <tr>\n",
       "                        <th> Bytes </th>\n",
       "                        <td> 8.70 GiB </td>\n",
       "                        <td> 4.35 GiB </td>\n",
       "                    </tr>\n",
       "                    \n",
       "                    <tr>\n",
       "                        <th> Shape </th>\n",
       "                        <td> (2, 40696, 57410) </td>\n",
       "                        <td> (1, 40696, 57410) </td>\n",
       "                    </tr>\n",
       "                    <tr>\n",
       "                        <th> Dask graph </th>\n",
       "                        <td colspan=\"2\"> 2 chunks in 5 graph layers </td>\n",
       "                    </tr>\n",
       "                    <tr>\n",
       "                        <th> Data type </th>\n",
       "                        <td colspan=\"2\"> uint16 numpy.ndarray </td>\n",
       "                    </tr>\n",
       "                </tbody>\n",
       "            </table>\n",
       "        </td>\n",
       "        <td>\n",
       "        <svg width=\"194\" height=\"150\" style=\"stroke:rgb(0,0,0);stroke-width:1\" >\n",
       "\n",
       "  <!-- Horizontal lines -->\n",
       "  <line x1=\"10\" y1=\"0\" x2=\"24\" y2=\"14\" style=\"stroke-width:2\" />\n",
       "  <line x1=\"10\" y1=\"85\" x2=\"24\" y2=\"100\" style=\"stroke-width:2\" />\n",
       "\n",
       "  <!-- Vertical lines -->\n",
       "  <line x1=\"10\" y1=\"0\" x2=\"10\" y2=\"85\" style=\"stroke-width:2\" />\n",
       "  <line x1=\"17\" y1=\"7\" x2=\"17\" y2=\"92\" />\n",
       "  <line x1=\"24\" y1=\"14\" x2=\"24\" y2=\"100\" style=\"stroke-width:2\" />\n",
       "\n",
       "  <!-- Colored Rectangle -->\n",
       "  <polygon points=\"10.0,0.0 24.9485979497544,14.948597949754403 24.9485979497544,100.01252409502526 10.0,85.06392614527086\" style=\"fill:#ECB172A0;stroke-width:0\"/>\n",
       "\n",
       "  <!-- Horizontal lines -->\n",
       "  <line x1=\"10\" y1=\"0\" x2=\"130\" y2=\"0\" style=\"stroke-width:2\" />\n",
       "  <line x1=\"17\" y1=\"7\" x2=\"137\" y2=\"7\" />\n",
       "  <line x1=\"24\" y1=\"14\" x2=\"144\" y2=\"14\" style=\"stroke-width:2\" />\n",
       "\n",
       "  <!-- Vertical lines -->\n",
       "  <line x1=\"10\" y1=\"0\" x2=\"24\" y2=\"14\" style=\"stroke-width:2\" />\n",
       "  <line x1=\"130\" y1=\"0\" x2=\"144\" y2=\"14\" style=\"stroke-width:2\" />\n",
       "\n",
       "  <!-- Colored Rectangle -->\n",
       "  <polygon points=\"10.0,0.0 130.0,0.0 144.9485979497544,14.948597949754403 24.9485979497544,14.948597949754403\" style=\"fill:#ECB172A0;stroke-width:0\"/>\n",
       "\n",
       "  <!-- Horizontal lines -->\n",
       "  <line x1=\"24\" y1=\"14\" x2=\"144\" y2=\"14\" style=\"stroke-width:2\" />\n",
       "  <line x1=\"24\" y1=\"100\" x2=\"144\" y2=\"100\" style=\"stroke-width:2\" />\n",
       "\n",
       "  <!-- Vertical lines -->\n",
       "  <line x1=\"24\" y1=\"14\" x2=\"24\" y2=\"100\" style=\"stroke-width:2\" />\n",
       "  <line x1=\"144\" y1=\"14\" x2=\"144\" y2=\"100\" style=\"stroke-width:2\" />\n",
       "\n",
       "  <!-- Colored Rectangle -->\n",
       "  <polygon points=\"24.9485979497544,14.948597949754403 144.9485979497544,14.948597949754403 144.9485979497544,100.01252409502526 24.9485979497544,100.01252409502526\" style=\"fill:#ECB172A0;stroke-width:0\"/>\n",
       "\n",
       "  <!-- Text -->\n",
       "  <text x=\"84.948598\" y=\"120.012524\" font-size=\"1.0rem\" font-weight=\"100\" text-anchor=\"middle\" >57410</text>\n",
       "  <text x=\"164.948598\" y=\"57.480561\" font-size=\"1.0rem\" font-weight=\"100\" text-anchor=\"middle\" transform=\"rotate(-90,164.948598,57.480561)\">40696</text>\n",
       "  <text x=\"7.474299\" y=\"112.538225\" font-size=\"1.0rem\" font-weight=\"100\" text-anchor=\"middle\" transform=\"rotate(45,7.474299,112.538225)\">2</text>\n",
       "</svg>\n",
       "        </td>\n",
       "    </tr>\n",
       "</table>"
      ],
      "text/plain": [
       "dask.array<stack, shape=(2, 40696, 57410), dtype=uint16, chunksize=(1, 40696, 57410), chunktype=numpy.ndarray>"
      ]
     },
     "execution_count": 3,
     "metadata": {},
     "output_type": "execute_result"
    }
   ],
   "source": [
    "im_dir = r'D:\\data_analysis\\2023_Stallaert\\TP19M626-22_Final'\n",
    "filenames_org = ['TP19M626-22_1.0.4_R000_DAPI__FINAL_F.tif','TP19M626-22_1.0.4_R000_Cy7_CDC6-AF750_FINAL_AFR_F.tif']\n",
    "filenames = [os.path.join(im_dir,i) for i in filenames_org]\n",
    "\n",
    "# read the first file to get the shape and dtype\n",
    "# ASSUMES THAT ALL FILES SHARE THE SAME SHAPE/TYPE\n",
    "sample = imread(filenames[0])\n",
    "\n",
    "lazy_imread = delayed(imread)  # lazy reader\n",
    "lazy_arrays = [lazy_imread(fn) for fn in filenames]\n",
    "dask_arrays = [\n",
    "    da.from_delayed(delayed_reader, shape=sample.shape, dtype=sample.dtype)\n",
    "    for delayed_reader in lazy_arrays\n",
    "]\n",
    "\n",
    "# Stack into one large dask.array\n",
    "stack = da.stack(dask_arrays, axis=0)\n",
    "stack.shape  # (nfiles, nz, ny, nx)\n",
    "\n",
    "# in jupyter notebook the repr of a dask stack provides a useful visual:\n",
    "stack"
   ]
  }
 ],
 "metadata": {
  "kernelspec": {
   "display_name": "napari-env",
   "language": "python",
   "name": "python3"
  },
  "language_info": {
   "codemirror_mode": {
    "name": "ipython",
    "version": 3
   },
   "file_extension": ".py",
   "mimetype": "text/x-python",
   "name": "python",
   "nbconvert_exporter": "python",
   "pygments_lexer": "ipython3",
   "version": "3.10.11"
  },
  "orig_nbformat": 4
 },
 "nbformat": 4,
 "nbformat_minor": 2
}
